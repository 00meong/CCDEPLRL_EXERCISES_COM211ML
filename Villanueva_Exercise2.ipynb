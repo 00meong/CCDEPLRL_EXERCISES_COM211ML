{
  "nbformat": 4,
  "nbformat_minor": 0,
  "metadata": {
    "colab": {
      "provenance": []
    },
    "kernelspec": {
      "name": "python3",
      "display_name": "Python 3"
    },
    "language_info": {
      "name": "python"
    }
  },
  "cells": [
    {
      "cell_type": "markdown",
      "source": [
        "# Exercise 2"
      ],
      "metadata": {
        "id": "tqFPmGbJ7Oah"
      }
    },
    {
      "cell_type": "markdown",
      "source": [
        "\n",
        "## Forward Pass and Backward Pass"
      ],
      "metadata": {
        "id": "cUkdx6a498S8"
      }
    },
    {
      "cell_type": "markdown",
      "source": [
        "<img src=\"https://github.com/robitussin/CCDEPLRL_EXERCISES/blob/main/images/exercise2.png?raw=true\"/>"
      ],
      "metadata": {
        "id": "0Q5Io34f-x38"
      }
    },
    {
      "cell_type": "markdown",
      "source": [
        "<img src=\"\"/>"
      ],
      "metadata": {
        "id": "-ZTBRmkM7JMR"
      }
    },
    {
      "cell_type": "markdown",
      "source": [
        "1. What is the predicted output? (`20 points`)"
      ],
      "metadata": {
        "id": "7HD5MNgg7hIu"
      }
    },
    {
      "cell_type": "code",
      "execution_count": 2,
      "metadata": {
        "id": "2cbutiml5cm_",
        "colab": {
          "base_uri": "https://localhost:8080/"
        },
        "outputId": "0673242e-684c-4587-9ea0-bbe419a34afd"
      },
      "outputs": [
        {
          "output_type": "stream",
          "name": "stdout",
          "text": [
            "Predicted Output is Z2 = 4.0\n"
          ]
        }
      ],
      "source": [
        "# put your answer here\n",
        "\n",
        "# Z1 = 2.0\n",
        "# W1 = 2.0\n",
        "# Z2 = (W1)(Z1)\n",
        "\n",
        "# Z2 = (2.0)(2.0)\n",
        "# Z2 = 4.0\n",
        "\n",
        "print(\"Predicted Output is Z2 = 4.0\")"
      ]
    },
    {
      "cell_type": "markdown",
      "source": [
        "2. Find the loss using the Mean Squared Error (MSE) function (`20 points`)"
      ],
      "metadata": {
        "id": "JTh2z2v97k0J"
      }
    },
    {
      "cell_type": "code",
      "source": [
        "# put your answer here\n",
        "\n",
        "# Z2 = 4.0\n",
        "# Y = 1\n",
        "# C = (Z2 - Y)^2\n",
        "\n",
        "# C = (4.0 - 1)^2\n",
        "# C = 9\n",
        "\n",
        "print(\"Mean Squared Error (MSE) is C = 9\")"
      ],
      "metadata": {
        "id": "F2D7opAr7t3U",
        "colab": {
          "base_uri": "https://localhost:8080/"
        },
        "outputId": "86fa3efe-ddcb-4bdc-c8c1-19f5d6450b02"
      },
      "execution_count": 3,
      "outputs": [
        {
          "output_type": "stream",
          "name": "stdout",
          "text": [
            "Mean Squared Error (MSE) is C = 9\n"
          ]
        }
      ]
    },
    {
      "cell_type": "markdown",
      "source": [
        "3. What is the derivative of $z_{2}$ with respect to $w_{1}$? (`20 points`)"
      ],
      "metadata": {
        "id": "wz5D8wEl7wtT"
      }
    },
    {
      "cell_type": "code",
      "source": [
        "# put your answer here\n",
        "\n",
        "# Z2 = 4.0\n",
        "# W1 = 2.0\n",
        "# dZ2/dW1 = Z1\n",
        "\n",
        "# Z1 = 2.0\n",
        "\n",
        "print(\"dZ2/dW1 is Z1 = 2.0\")\n"
      ],
      "metadata": {
        "id": "n8Q_9JJ57xFL"
      },
      "execution_count": null,
      "outputs": []
    },
    {
      "cell_type": "markdown",
      "source": [
        "4. What is the derivative of the loss with respect to $z_{2}$? (`20 points`)"
      ],
      "metadata": {
        "id": "HVpt0n-E9TIx"
      }
    },
    {
      "cell_type": "code",
      "source": [
        "# put your answer here\n",
        "\n",
        "# Y = 1\n",
        "# Z2 = 4.0\n",
        "# dC/dZ2 = 2(Z2 - Y)\n",
        "\n",
        "# dC/dZ2 = 2(4.0 - 1)\n",
        "# dC/dZ2 = 6\n",
        "\n",
        "print(\"dC/dZ2 = 6\")"
      ],
      "metadata": {
        "id": "KM4fEL059grQ"
      },
      "execution_count": null,
      "outputs": []
    },
    {
      "cell_type": "markdown",
      "source": [
        "5. What is the derivative of the loss with respect to $w_{1}$? (`20 points`)"
      ],
      "metadata": {
        "id": "hlO5xdMx9hhl"
      }
    },
    {
      "cell_type": "code",
      "source": [
        "# put your answer here\n",
        "\n",
        "# Y = 1\n",
        "# W2 = 2.0\n",
        "# dC/dW1 = [(dZ2/dW1)(dC/dZ2)]\n",
        "\n",
        "# dC/dW1 = [(2.0)(6)]\n",
        "# dC/dW1 = 12.0\n",
        "\n",
        "print(\"dC/dW1 = 12.0\")"
      ],
      "metadata": {
        "id": "-xP2grHW9hxK"
      },
      "execution_count": null,
      "outputs": []
    }
  ]
}